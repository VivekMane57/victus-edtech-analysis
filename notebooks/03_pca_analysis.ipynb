{
 "cells": [
  {
   "cell_type": "markdown",
   "id": "03fbd551",
   "metadata": {},
   "source": [
    "# 03 — PCA Analysis"
   ]
  },
  {
   "cell_type": "code",
   "execution_count": null,
   "id": "6c173ac5",
   "metadata": {},
   "outputs": [],
   "source": [
    "\n",
    "# Update this if your data isn't under ./data\n",
    "base_path = r\"./data\"  # change to r\"D:\\IITB\\STData\" on Windows if needed\n",
    "save_models_to = r\"./models\"\n",
    "save_fig_to = r\"./notebooks/figures\"\n",
    "\n",
    "import os, pandas as pd, numpy as np, matplotlib.pyplot as plt\n",
    "os.makedirs(save_models_to, exist_ok=True)\n",
    "os.makedirs(save_fig_to, exist_ok=True)\n",
    "\n",
    "def read_csv(name):\n",
    "    p = os.path.join(base_path, name)\n",
    "    return pd.read_csv(p)\n",
    "\n",
    "print(\"Using base_path:\", base_path)\n"
   ]
  },
  {
   "cell_type": "code",
   "execution_count": null,
   "id": "f487ed0b",
   "metadata": {},
   "outputs": [],
   "source": [
    "\n",
    "from sklearn.decomposition import PCA\n",
    "import numpy as np, os, pickle, matplotlib.pyplot as plt, pandas as pd\n",
    "\n",
    "X = pd.read_csv(os.path.join(base_path,\"processed_clean.csv\")).values\n",
    "\n",
    "pca = PCA().fit(X)\n",
    "cumvar = pca.explained_variance_ratio_.cumsum()\n",
    "k90 = int(np.argmax(cumvar >= 0.90) + 1)\n",
    "print(\"Components for 90% variance:\", k90)\n",
    "\n",
    "plt.figure(figsize=(8,4)); plt.plot(cumvar); plt.title(\"Cumulative Variance (PCA)\")\n",
    "plt.xlabel(\"Components\"); plt.ylabel(\"Cumulative variance\"); plt.tight_layout()\n",
    "plt.savefig(os.path.join(save_fig_to,\"03_pca_cumvar.png\")); plt.show()\n",
    "\n",
    "with open(os.path.join(save_models_to,\"pca_components.pkl\"),\"wb\") as f:\n",
    "    pickle.dump({\"components\":pca.components_, \"explained\":pca.explained_variance_ratio_}, f)\n",
    "print(\"Saved PCA components to models/\")\n"
   ]
  }
 ],
 "metadata": {
  "kernelspec": {
   "display_name": "Python 3",
   "language": "python",
   "name": "python3"
  }
 },
 "nbformat": 4,
 "nbformat_minor": 5
}
