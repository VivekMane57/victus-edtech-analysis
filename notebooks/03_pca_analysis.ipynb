{
 "cells": [
  {
   "cell_type": "markdown",
   "id": "03fbd551",
   "metadata": {},
   "source": [
    "# 03 — PCA Analysis"
   ]
  },
  {
   "cell_type": "code",
   "execution_count": null,
   "id": "6c173ac5",
   "metadata": {},
   "outputs": [],
   "source": [
    "\n",
    "# Update this if your data isn't under ./data\n",
    "base_path = r\"D:\\IITB\\STData\\1\"\n",
    "  # change to r\"D:\\IITB\\STData\" on Windows if needed\n",
    "save_models_to = r\"./models\"\n",
    "save_fig_to = r\"./notebooks/figures\"\n",
    "\n",
    "import os, pandas as pd, numpy as np, matplotlib.pyplot as plt\n",
    "os.makedirs(save_models_to, exist_ok=True)\n",
    "os.makedirs(save_fig_to, exist_ok=True)\n",
    "\n",
    "def read_csv(name):\n",
    "    p = os.path.join(base_path, name)\n",
    "    return pd.read_csv(p)\n",
    "\n",
    "print(\"Using base_path:\", base_path)\n"
   ]
  },
  {
   "cell_type": "code",
   "execution_count": null,
   "id": "f487ed0b",
   "metadata": {},
   "outputs": [],
   "source": [
    "\n",
    "from sklearn.decomposition import PCA\n",
    "import numpy as np, os, pickle, matplotlib.pyplot as plt, pandas as pd\n",
    "\n",
    "X = pd.read_csv(os.path.join(base_path,\"processed_clean.csv\")).values\n",
    "\n",
    "pca = PCA().fit(X)\n",
    "cumvar = pca.explained_variance_ratio_.cumsum()\n",
    "k90 = int(np.argmax(cumvar >= 0.90) + 1)\n",
    "print(\"Components for 90% variance:\", k90)\n",
    "\n",
    "plt.figure(figsize=(8,4)); plt.plot(cumvar); plt.title(\"Cumulative Variance (PCA)\")\n",
    "plt.xlabel(\"Components\"); plt.ylabel(\"Cumulative variance\"); plt.tight_layout()\n",
    "plt.savefig(os.path.join(save_fig_to,\"03_pca_cumvar.png\")); plt.show()\n",
    "\n",
    "with open(os.path.join(save_models_to,\"pca_components.pkl\"),\"wb\") as f:\n",
    "    pickle.dump({\"components\":pca.components_, \"explained\":pca.explained_variance_ratio_}, f)\n",
    "print(\"Saved PCA components to models/\")\n"
   ]
  },
  {
   "cell_type": "code",
   "execution_count": null,
   "id": "9429d401",
   "metadata": {},
   "outputs": [],
   "source": [
    "import os\n",
    "import pandas as pd\n",
    "import numpy as np\n",
    "import matplotlib.pyplot as plt\n",
    "from sklearn.preprocessing import StandardScaler\n",
    "from sklearn.decomposition import PCA\n",
    "\n",
    "# Path to your merged feature CSV\n",
    "base_path = r\"D:\\IITB\\STData\"\n",
    "data_path = os.path.join(base_path, \"eye_features_all_students.csv\")\n",
    "\n",
    "df = pd.read_csv(data_path)\n",
    "print(\"Shape:\", df.shape)\n",
    "df.head()\n",
    "\n",
    "\n",
    "X = df.drop(columns=[\"student_id\"])\n",
    "features = X.columns\n",
    "\n",
    "# Standardize (important for PCA)\n",
    "scaler = StandardScaler()\n",
    "X_scaled = scaler.fit_transform(X)\n",
    "\n",
    "\n",
    "# Keep enough components to explain ~95% variance\n",
    "pca = PCA(n_components=0.95, random_state=42)\n",
    "X_pca = pca.fit_transform(X_scaled)\n",
    "\n",
    "print(\"Original shape:\", X_scaled.shape)\n",
    "print(\"Reduced shape:\", X_pca.shape)\n",
    "\n",
    "\n",
    "plt.figure(figsize=(8,5))\n",
    "plt.plot(np.cumsum(pca.explained_variance_ratio_), marker='o')\n",
    "plt.xlabel(\"Number of Components\")\n",
    "plt.ylabel(\"Cumulative Explained Variance\")\n",
    "plt.title(\"PCA - Explained Variance\")\n",
    "plt.grid(True)\n",
    "plt.show()\n",
    "\n",
    "\n",
    "# Take first 2 components\n",
    "plt.figure(figsize=(8,6))\n",
    "plt.scatter(X_pca[:,0], X_pca[:,1], c='blue', alpha=0.6, edgecolor='k')\n",
    "plt.xlabel(\"PC1\")\n",
    "plt.ylabel(\"PC2\")\n",
    "plt.title(\"PCA Scatter Plot (first 2 components)\")\n",
    "plt.show()\n",
    "\n",
    "out_csv = os.path.join(base_path, \"eye_features_pca.csv\")\n",
    "pca_df = pd.DataFrame(X_pca, columns=[f\"PC{i+1}\" for i in range(X_pca.shape[1])])\n",
    "pca_df[\"student_id\"] = df[\"student_id\"]\n",
    "\n",
    "pca_df.to_csv(out_csv, index=False)\n",
    "print(\"Saved PCA-reduced data to:\", out_csv)\n"
   ]
  }
 ],
 "metadata": {
  "kernelspec": {
   "display_name": "venv",
   "language": "python",
   "name": "python3"
  },
  "language_info": {
   "codemirror_mode": {
    "name": "ipython",
    "version": 3
   },
   "file_extension": ".py",
   "mimetype": "text/x-python",
   "name": "python",
   "nbconvert_exporter": "python",
   "pygments_lexer": "ipython3",
   "version": "3.13.5"
  }
 },
 "nbformat": 4,
 "nbformat_minor": 5
}
