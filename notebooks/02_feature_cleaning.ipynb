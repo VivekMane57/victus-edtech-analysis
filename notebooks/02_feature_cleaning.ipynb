{
 "cells": [
  {
   "cell_type": "markdown",
   "id": "c77f6bef",
   "metadata": {},
   "source": [
    "# 02 — Feature Cleaning (low variance, correlation pruning)"
   ]
  },
  {
   "cell_type": "code",
   "execution_count": null,
   "id": "6c173ac5",
   "metadata": {},
   "outputs": [],
   "source": [
    "\n",
    "# Update this if your data isn't under ./data\n",
    "base_path = r\"./data\"  # change to r\"D:\\IITB\\STData\" on Windows if needed\n",
    "save_models_to = r\"./models\"\n",
    "save_fig_to = r\"./notebooks/figures\"\n",
    "\n",
    "import os, pandas as pd, numpy as np, matplotlib.pyplot as plt\n",
    "os.makedirs(save_models_to, exist_ok=True)\n",
    "os.makedirs(save_fig_to, exist_ok=True)\n",
    "\n",
    "def read_csv(name):\n",
    "    p = os.path.join(base_path, name)\n",
    "    return pd.read_csv(p)\n",
    "\n",
    "print(\"Using base_path:\", base_path)\n"
   ]
  },
  {
   "cell_type": "code",
   "execution_count": null,
   "id": "6a7bd456",
   "metadata": {},
   "outputs": [],
   "source": [
    "\n",
    "from sklearn.impute import SimpleImputer\n",
    "from sklearn.preprocessing import StandardScaler\n",
    "from sklearn.feature_selection import VarianceThreshold\n",
    "import pandas as pd, numpy as np, os\n",
    "\n",
    "df = pd.read_csv(os.path.join(base_path,\"processed_merged.csv\"))\n",
    "features = [c for c in df.columns if c not in ['Time']]\n",
    "X = df[features].values\n",
    "\n",
    "imp = SimpleImputer(strategy=\"median\")\n",
    "scaler = StandardScaler()\n",
    "X_imp = imp.fit_transform(X)\n",
    "X_std = scaler.fit_transform(X_imp)\n",
    "\n",
    "vt = VarianceThreshold(threshold=1e-5)\n",
    "X_lv = vt.fit_transform(X_std)\n",
    "kept = np.array(features)[vt.get_support()]\n",
    "\n",
    "# Correlation pruning\n",
    "Xd = pd.DataFrame(X_lv, columns=kept)\n",
    "corr = Xd.corr().abs()\n",
    "upper = corr.where(np.triu(np.ones(corr.shape), k=1).astype(bool))\n",
    "to_drop = [c for c in upper.columns if any(upper[c] > 0.95)]\n",
    "X_clean = Xd.drop(columns=to_drop)\n",
    "\n",
    "clean_path = os.path.join(base_path, \"processed_clean.csv\")\n",
    "X_clean.to_csv(clean_path, index=False)\n",
    "print(\"Saved:\", clean_path)\n"
   ]
  }
 ],
 "metadata": {
  "kernelspec": {
   "display_name": "Python 3",
   "language": "python",
   "name": "python3"
  }
 },
 "nbformat": 4,
 "nbformat_minor": 5
}
