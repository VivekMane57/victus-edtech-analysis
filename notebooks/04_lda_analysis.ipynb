{
 "cells": [
  {
   "cell_type": "markdown",
   "id": "dc7deff7",
   "metadata": {},
   "source": [
    "# 04 — LDA Analysis"
   ]
  },
  {
   "cell_type": "code",
   "execution_count": null,
   "id": "6c173ac5",
   "metadata": {},
   "outputs": [],
   "source": [
    "\n",
    "# Update this if your data isn't under ./data\n",
    "base_path = r\"./data\"  # change to r\"D:\\IITB\\STData\" on Windows if needed\n",
    "save_models_to = r\"./models\"\n",
    "save_fig_to = r\"./notebooks/figures\"\n",
    "\n",
    "import os, pandas as pd, numpy as np, matplotlib.pyplot as plt\n",
    "os.makedirs(save_models_to, exist_ok=True)\n",
    "os.makedirs(save_fig_to, exist_ok=True)\n",
    "\n",
    "def read_csv(name):\n",
    "    p = os.path.join(base_path, name)\n",
    "    return pd.read_csv(p)\n",
    "\n",
    "print(\"Using base_path:\", base_path)\n"
   ]
  },
  {
   "cell_type": "code",
   "execution_count": null,
   "id": "1c4c4a6f",
   "metadata": {},
   "outputs": [],
   "source": [
    "\n",
    "import os, pandas as pd, numpy as np, pickle\n",
    "from sklearn.discriminant_analysis import LinearDiscriminantAnalysis\n",
    "from sklearn.model_selection import cross_val_score\n",
    "\n",
    "X = pd.read_csv(os.path.join(base_path,\"processed_clean.csv\"))\n",
    "# Build a Y label if available; fallback to median split on Engagement\n",
    "df_raw = pd.read_csv(os.path.join(base_path,\"processed_merged.csv\"))\n",
    "if 'Correct' in df_raw.columns:\n",
    "    y = (df_raw['Correct']>0).astype(int).values\n",
    "else:\n",
    "    y = (df_raw['Engagement'] > df_raw['Engagement'].median()).astype(int).values\n",
    "\n",
    "lda = LinearDiscriminantAnalysis()\n",
    "scores = cross_val_score(lda, X.values, y, cv=5)\n",
    "print(\"LDA CV accuracy:\", scores.mean().round(3))\n",
    "\n",
    "lda.fit(X.values, y)\n",
    "coef = pd.Series(lda.coef_[0], index=X.columns).sort_values(key=lambda s: s.abs(), ascending=False)\n",
    "coef.head(20).to_csv(os.path.join(base_path,\"lda_top_features.csv\"), index=True)\n",
    "\n",
    "with open(os.path.join(save_models_to,\"lda_model.pkl\"),\"wb\") as f:\n",
    "    pickle.dump(lda, f)\n",
    "print(\"Saved LDA model\")\n"
   ]
  }
 ],
 "metadata": {
  "kernelspec": {
   "display_name": "Python 3",
   "language": "python",
   "name": "python3"
  }
 },
 "nbformat": 4,
 "nbformat_minor": 5
}
