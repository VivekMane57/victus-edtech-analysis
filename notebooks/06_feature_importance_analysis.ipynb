{
 "cells": [
  {
   "cell_type": "markdown",
   "id": "98359aba",
   "metadata": {},
   "source": [
    "# 06 — Model-driven Feature Importance (XGBoost + SHAP)"
   ]
  },
  {
   "cell_type": "code",
   "execution_count": null,
   "id": "6c173ac5",
   "metadata": {},
   "outputs": [],
   "source": [
    "\n",
    "# Update this if your data isn't under ./data\n",
    "base_path = r\"./data\"  # change to r\"D:\\IITB\\STData\" on Windows if needed\n",
    "save_models_to = r\"./models\"\n",
    "save_fig_to = r\"./notebooks/figures\"\n",
    "\n",
    "import os, pandas as pd, numpy as np, matplotlib.pyplot as plt\n",
    "os.makedirs(save_models_to, exist_ok=True)\n",
    "os.makedirs(save_fig_to, exist_ok=True)\n",
    "\n",
    "def read_csv(name):\n",
    "    p = os.path.join(base_path, name)\n",
    "    return pd.read_csv(p)\n",
    "\n",
    "print(\"Using base_path:\", base_path)\n"
   ]
  },
  {
   "cell_type": "code",
   "execution_count": null,
   "id": "89401056",
   "metadata": {},
   "outputs": [],
   "source": [
    "\n",
    "import os, pandas as pd, numpy as np\n",
    "from xgboost import XGBClassifier\n",
    "from sklearn.model_selection import cross_val_score\n",
    "import shap\n",
    "\n",
    "X = pd.read_csv(os.path.join(base_path,\"processed_clean.csv\"))\n",
    "df_raw = pd.read_csv(os.path.join(base_path,\"processed_merged.csv\"))\n",
    "if 'Correct' in df_raw.columns:\n",
    "    y = (df_raw['Correct']>0).astype(int).values\n",
    "else:\n",
    "    y = (df_raw['Engagement'] > df_raw['Engagement'].median()).astype(int).values\n",
    "\n",
    "clf = XGBClassifier(n_estimators=400, max_depth=4, learning_rate=0.05, subsample=0.9, colsample_bytree=0.9, n_jobs=-1, eval_metric='logloss')\n",
    "scores = cross_val_score(clf, X.values, y, cv=5)\n",
    "print(\"XGB CV accuracy:\", scores.mean().round(3))\n",
    "\n",
    "clf.fit(X.values, y)\n",
    "imp = pd.Series(clf.feature_importances_, index=X.columns).sort_values(ascending=False)\n",
    "imp.to_csv(os.path.join(base_path,\"xgb_feature_importance.csv\"))\n",
    "\n",
    "# SHAP (summary)\n",
    "expl = shap.TreeExplainer(clf)\n",
    "shap_vals = expl.shap_values(X)\n",
    "shap.summary_plot(shap_vals, X, show=False)  # This will display in notebook; save manually if needed\n"
   ]
  }
 ],
 "metadata": {
  "kernelspec": {
   "display_name": "Python 3",
   "language": "python",
   "name": "python3"
  }
 },
 "nbformat": 4,
 "nbformat_minor": 5
}
