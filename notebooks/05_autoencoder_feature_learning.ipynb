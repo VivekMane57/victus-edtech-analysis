{
 "cells": [
  {
   "cell_type": "markdown",
   "id": "9ba226ad",
   "metadata": {},
   "source": [
    "# 05 — Autoencoder Feature Learning"
   ]
  },
  {
   "cell_type": "code",
   "execution_count": null,
   "id": "6c173ac5",
   "metadata": {},
   "outputs": [],
   "source": [
    "\n",
    "# Update this if your data isn't under ./data\n",
    "base_path = r\"./data\"  # change to r\"D:\\IITB\\STData\" on Windows if needed\n",
    "save_models_to = r\"./models\"\n",
    "save_fig_to = r\"./notebooks/figures\"\n",
    "\n",
    "import os, pandas as pd, numpy as np, matplotlib.pyplot as plt\n",
    "os.makedirs(save_models_to, exist_ok=True)\n",
    "os.makedirs(save_fig_to, exist_ok=True)\n",
    "\n",
    "def read_csv(name):\n",
    "    p = os.path.join(base_path, name)\n",
    "    return pd.read_csv(p)\n",
    "\n",
    "print(\"Using base_path:\", base_path)\n"
   ]
  },
  {
   "cell_type": "code",
   "execution_count": null,
   "id": "3912565f",
   "metadata": {},
   "outputs": [],
   "source": [
    "\n",
    "import os, torch, torch.nn as nn, torch.optim as optim, pandas as pd, numpy as np\n",
    "\n",
    "X = pd.read_csv(os.path.join(base_path,\"processed_clean.csv\")).values.astype(\"float32\")\n",
    "X = torch.tensor(X)\n",
    "\n",
    "class AE(nn.Module):\n",
    "    def __init__(self, d_in= X.shape[1], d_lat=8):\n",
    "        super().__init__()\n",
    "        self.enc = nn.Sequential(nn.Linear(d_in,128), nn.ReLU(), nn.Linear(128,64), nn.ReLU(), nn.Linear(64,d_lat))\n",
    "        self.dec = nn.Sequential(nn.Linear(d_lat,64), nn.ReLU(), nn.Linear(64,128), nn.ReLU(), nn.Linear(128,d_in))\n",
    "    def forward(self, x): \n",
    "        z = self.enc(x); xh = self.dec(z); \n",
    "        return xh, z\n",
    "\n",
    "model = AE()\n",
    "opt = optim.Adam(model.parameters(), lr=1e-3)\n",
    "lossf = nn.MSELoss()\n",
    "\n",
    "for epoch in range(50):\n",
    "    opt.zero_grad(); xh, z = model(X); loss = lossf(xh, X); loss.backward(); opt.step()\n",
    "    if (epoch+1)%10==0: print(\"epoch\", epoch+1, \"loss\", float(loss))\n",
    "\n",
    "torch.save(model.state_dict(), os.path.join(save_models_to,\"autoencoder_model.pt\"))\n",
    "print(\"Saved autoencoder weights\")\n",
    "\n",
    "# Save latent for plotting in next notebook if needed\n",
    "with torch.no_grad():\n",
    "    _, Z = model(X)\n",
    "    np.savetxt(os.path.join(base_path,\"autoencoder_latent.csv\"), Z.numpy(), delimiter=\",\")\n"
   ]
  }
 ],
 "metadata": {
  "kernelspec": {
   "display_name": "Python 3",
   "language": "python",
   "name": "python3"
  }
 },
 "nbformat": 4,
 "nbformat_minor": 5
}
